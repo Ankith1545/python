{
 "cells": [
  {
   "cell_type": "code",
   "execution_count": 2,
   "metadata": {},
   "outputs": [
    {
     "name": "stdout",
     "output_type": "stream",
     "text": [
      "False\n",
      "True\n"
     ]
    }
   ],
   "source": [
    "import re\n",
    "def phoneNumberValidate(phone):\n",
    "    pattern = '^[6-9][0-9]{9}$'\n",
    "    phone = str(phone)\n",
    "    if re.match(pattern,phone):\n",
    "        return True\n",
    "    return False\n",
    "print(phoneNumberValidate(91004784749))\n",
    "print(phoneNumberValidate(7093604572))\n"
   ]
  },
  {
   "cell_type": "code",
   "execution_count": 1,
   "metadata": {},
   "outputs": [
    {
     "ename": "SyntaxError",
     "evalue": "invalid syntax (<ipython-input-1-9cc38b7b3fd2>, line 2)",
     "output_type": "error",
     "traceback": [
      "\u001b[1;36m  File \u001b[1;32m\"<ipython-input-1-9cc38b7b3fd2>\"\u001b[1;36m, line \u001b[1;32m2\u001b[0m\n\u001b[1;33m    def ValidaeRollNumber(number)\u001b[0m\n\u001b[1;37m                                 ^\u001b[0m\n\u001b[1;31mSyntaxError\u001b[0m\u001b[1;31m:\u001b[0m invalid syntax\n"
     ]
    }
   ],
   "source": [
    "import re\n",
    "def ValidaeRollNumber(number)\n",
    "    number = str(number)\n",
    "    pattern = '^[1][5][2][U][1][A][0][1-9][0-6][0-9]$'\n",
    "    "
   ]
  },
  {
   "cell_type": "code",
   "execution_count": 6,
   "metadata": {},
   "outputs": [
    {
     "name": "stdout",
     "output_type": "stream",
     "text": [
      "None\n",
      "False\n"
     ]
    }
   ],
   "source": [
    "import re\n",
    "def validateEMail(email):\n",
    "    pattern = \"^[0-9a-z][0-9a-z_.]{4,13}[0-9a-z][@][a-z0-9]{3,13}[.][a-z]{2,4}$\"\n",
    "    if re.match(pattern,email):\n",
    "         return False\n",
    "print(validateEMail(\"annkithstorm@gmail.com \"))      \n",
    "print(validateEMail(\"roczz2580sravan@gmail.com\"))"
   ]
  },
  {
   "cell_type": "code",
   "execution_count": null,
   "metadata": {},
   "outputs": [],
   "source": [
    "class demo1:\n",
    "    def fact"
   ]
  }
 ],
 "metadata": {
  "kernelspec": {
   "display_name": "Python 3",
   "language": "python",
   "name": "python3"
  },
  "language_info": {
   "codemirror_mode": {
    "name": "ipython",
    "version": 3
   },
   "file_extension": ".py",
   "mimetype": "text/x-python",
   "name": "python",
   "nbconvert_exporter": "python",
   "pygments_lexer": "ipython3",
   "version": "3.7.3"
  }
 },
 "nbformat": 4,
 "nbformat_minor": 2
}
